{
  "nbformat": 4,
  "nbformat_minor": 0,
  "metadata": {
    "colab": {
      "provenance": []
    },
    "kernelspec": {
      "name": "python3",
      "display_name": "Python 3"
    },
    "language_info": {
      "name": "python"
    }
  },
  "cells": [
    {
      "cell_type": "code",
      "execution_count": 1,
      "metadata": {
        "id": "cFqO1HtOZiW_"
      },
      "outputs": [],
      "source": [
        "Object=2"
      ]
    },
    {
      "cell_type": "code",
      "source": [
        "Object2=1086J"
      ],
      "metadata": {
        "id": "nuqYrdpUaAhK"
      },
      "execution_count": 2,
      "outputs": []
    },
    {
      "cell_type": "code",
      "source": [
        "Object3=3.14567"
      ],
      "metadata": {
        "id": "OenUHNakaIou"
      },
      "execution_count": 8,
      "outputs": []
    },
    {
      "cell_type": "code",
      "source": [
        "My_Name=\"Vevin\""
      ],
      "metadata": {
        "id": "bBvqpb0NafZ1"
      },
      "execution_count": 10,
      "outputs": []
    },
    {
      "cell_type": "code",
      "source": [
        "FirstName=input(\"What is your first name?\")"
      ],
      "metadata": {
        "colab": {
          "base_uri": "https://localhost:8080/"
        },
        "id": "qQXYZ5jYak5W",
        "outputId": "0571917a-aa12-4a81-dc5f-569915f2601f"
      },
      "execution_count": 23,
      "outputs": [
        {
          "name": "stdout",
          "output_type": "stream",
          "text": [
            "What is your first name? Vevin\n"
          ]
        }
      ]
    },
    {
      "cell_type": "code",
      "source": [
        "LastName=input(\"What is your last name?\")"
      ],
      "metadata": {
        "colab": {
          "base_uri": "https://localhost:8080/"
        },
        "id": "cX-Le14RdVDY",
        "outputId": "094dd2cb-d237-4c3b-96ed-ce17aedf63b9"
      },
      "execution_count": 24,
      "outputs": [
        {
          "name": "stdout",
          "output_type": "stream",
          "text": [
            "What is your last name?Cruz\n"
          ]
        }
      ]
    },
    {
      "cell_type": "code",
      "source": [
        "print(\"Hello \" + (FirstName) + \" \" + (LastName))"
      ],
      "metadata": {
        "colab": {
          "base_uri": "https://localhost:8080/"
        },
        "id": "u-ROL95SbaF9",
        "outputId": "3e4fd2eb-a7e4-4f0f-ac3e-9f8505a1d686"
      },
      "execution_count": 26,
      "outputs": [
        {
          "output_type": "stream",
          "name": "stdout",
          "text": [
            "Hello  Vevin Cruz\n"
          ]
        }
      ]
    },
    {
      "cell_type": "code",
      "source": [],
      "metadata": {
        "id": "wVZveZHRiQzJ"
      },
      "execution_count": null,
      "outputs": []
    }
  ]
}